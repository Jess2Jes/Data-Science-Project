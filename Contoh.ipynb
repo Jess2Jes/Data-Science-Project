{
 "cells": [
  {
   "cell_type": "markdown",
   "metadata": {},
   "source": [
    "# Tutorial Lengkap: Struktur Data List dalam Python 🐍"
   ]
  },
  {
   "cell_type": "markdown",
   "metadata": {},
   "source": [
    "Selamat datang di tutorial ini! Kita akan menjelajahi semua hal tentang **List**, salah satu struktur data paling fundamental dan serbaguna dalam Python. Notebook ini akan memandu Anda mulai dari cara membuat list hingga operasi yang lebih kompleks seperti sorting, filtering, dan list comprehension."
   ]
  },
  {
   "cell_type": "markdown",
   "metadata": {},
   "source": [
    "## 1. Membuat Struktur Data List"
   ]
  },
  {
   "cell_type": "markdown",
   "metadata": {},
   "source": [
    "### a. Menggunakan Kurung Siku `[]`\n",
    "Ini adalah cara paling umum untuk membuat list. Anda bisa memasukkan berbagai tipe data di dalamnya."
   ]
  },
  {
   "cell_type": "code",
   "execution_count": null,
   "metadata": {},
   "outputs": [
    {
     "name": "stdout",
     "output_type": "stream",
     "text": [
      "List of students: ['Adam', 'John', 'Harry', 'Padma']\n",
      "List of mixed data: [1, 2.34, 'Flower', True]\n"
     ]
    }
   ],
   "source": [
    "students = [\"Adam\", \"John\", \"Harry\", \"Padma\"] # List berisi string\n",
    "\n",
    "numbers = [0, 1, 2, 3, 4, 5] # List berisi integer\n",
    "\n",
    "price = [2.00, 1.45, 2.90, 3.46, 4.58] # List berisi float\n",
    "\n",
    "active = [True, False] # List berisi boolean\n",
    "\n",
    "mixed_data = [1, 2.34, \"Flower\", True] # List berisi campuran tipe data\n",
    "\n",
    "print(\"List of students:\", students)\n",
    "print(\"List of mixed data:\", mixed_data)"
   ]
  },
  {
   "cell_type": "markdown",
   "metadata": {},
   "source": [
    "### b. Menggunakan Fungsi `list()`\n",
    "Fungsi ini sangat berguna untuk mengubah tipe data lain (seperti string, tuple, atau dictionary) menjadi sebuah list."
   ]
  },
  {
   "cell_type": "code",
   "execution_count": null,
   "metadata": {},
   "outputs": [
    {
     "name": "stdout",
     "output_type": "stream",
     "text": [
      "String to list: ['H', 'a', 'r', 'r', 'y', ' ', 'P', 'o', 't', 't', 'e', 'r']\n",
      "Dictionary to list (keys only): ['name', 'class', 'major']\n",
      "Dictionary to list (keys and values): [('name', 'Harry'), ('class', 'IF-A Pagi'), ('major', 'Computer Science')]\n",
      "Tuple to list: [1, 2, 3, 4, 5]\n"
     ]
    }
   ],
   "source": [
    "# Mengubah string menjadi list karakter\n",
    "name = \"Harry Potter\"\n",
    "char_name = list(name)\n",
    "print(\"String to list:\", char_name)\n",
    "\n",
    "# Mengubah dictionary menjadi list (hanya mengambil keys)\n",
    "students_dict = {\"name\": \"Harry\", \"class\": \"IF-A Pagi\", \"major\": \"Computer Science\"}\n",
    "list_students = list(students_dict)\n",
    "print(\"Dictionary to list (keys only):\", list_students)\n",
    "\n",
    "# Mengubah dictionary menjadi list (mengambil keys dan values) dan menyimpan dalam tuple\n",
    "students_dict1 = {\"name\": \"Harry\", \"class\": \"IF-A Pagi\", \"major\": \"Computer Science\"}\n",
    "list_students = list(students_dict1.items())\n",
    "print(\"Dictionary to list (keys and values):\", list_students)\n",
    "\n",
    "\n",
    "# Mengubah tuple menjadi list\n",
    "tup = (1, 2, 3, 4, 5)\n",
    "list_tup = list(tup)\n",
    "print(\"Tuple to list:\", list_tup)"
   ]
  },
  {
   "cell_type": "markdown",
   "metadata": {},
   "source": [
    "### c. Menggunakan Asterisk `*`\n",
    "Cara cepat untuk membuat list dengan elemen yang berulang."
   ]
  },
  {
   "cell_type": "code",
   "execution_count": 39,
   "metadata": {},
   "outputs": [
    {
     "name": "stdout",
     "output_type": "stream",
     "text": [
      "List of zeros: [0, 0, 0, 0, 0]\n"
     ]
    }
   ],
   "source": [
    "list_zeros = [0] * 5\n",
    "print(\"List of zeros:\", list_zeros)"
   ]
  },
  {
   "cell_type": "markdown",
   "metadata": {},
   "source": [
    "---"
   ]
  },
  {
   "cell_type": "markdown",
   "metadata": {},
   "source": [
    "## 2. Mengetahui Jumlah Elemen (Panjang List)\n",
    "Gunakan fungsi `len()` untuk mendapatkan jumlah total elemen dalam sebuah list."
   ]
  },
  {
   "cell_type": "code",
   "execution_count": 40,
   "metadata": {},
   "outputs": [
    {
     "name": "stdout",
     "output_type": "stream",
     "text": [
      "Panjang list: 6\n"
     ]
    }
   ],
   "source": [
    "list1 = [1, 2, 3, 4, 5, 6]\n",
    "print(\"Panjang list:\", len(list1))"
   ]
  },
  {
   "cell_type": "markdown",
   "metadata": {},
   "source": [
    "---"
   ]
  },
  {
   "cell_type": "markdown",
   "metadata": {},
   "source": [
    "## 3. Mengakses Elemen Data dalam List"
   ]
  },
  {
   "cell_type": "markdown",
   "metadata": {},
   "source": [
    "### a. Menggunakan Indexing\n",
    "Akses elemen tunggal menggunakan posisinya (indeks). Ingat, indeks di Python dimulai dari **0**!"
   ]
  },
  {
   "cell_type": "code",
   "execution_count": 41,
   "metadata": {},
   "outputs": [
    {
     "name": "stdout",
     "output_type": "stream",
     "text": [
      "Elemen pertama: Adam\n",
      "Elemen ketiga: Harry\n",
      "Elemen terakhir: Padma\n"
     ]
    }
   ],
   "source": [
    "students = [\"Adam\", \"John\", \"Harry\", \"Padma\"]\n",
    "\n",
    "# Mengakses elemen pertama (indeks 0)\n",
    "print(\"Elemen pertama:\", students[0])\n",
    "\n",
    "# Mengakses elemen ketiga (indeks 2)\n",
    "print(\"Elemen ketiga:\", students[2])\n",
    "\n",
    "# Mengakses elemen terakhir (indeks -1)\n",
    "print(\"Elemen terakhir:\", students[-1])\n",
    "\n",
    "# print(students[4]) # -> Ini akan menghasilkan IndexError karena indeks 4 di luar jangkauan"
   ]
  },
  {
   "cell_type": "markdown",
   "metadata": {},
   "source": [
    "### b. Menggunakan Slicing\n",
    "Ambil beberapa elemen sekaligus dengan menentukan rentang `[start:stop:step]`."
   ]
  },
  {
   "cell_type": "code",
   "execution_count": 42,
   "metadata": {},
   "outputs": [
    {
     "name": "stdout",
     "output_type": "stream",
     "text": [
      "Slicing [0:4:1]: ['Adam', 'John', 'Harry', 'Padma']\n",
      "Slicing [0:4:2]: ['Adam', 'Harry']\n",
      "Membalik list: ['Padma', 'Harry', 'John', 'Adam']\n"
     ]
    }
   ],
   "source": [
    "students = [\"Adam\", \"John\", \"Harry\", \"Padma\"]\n",
    "\n",
    "# Dimulai dari indeks 0 hingga sebelum indeks 4, langkah 1\n",
    "print(\"Slicing [0:4:1]:\", students[0:4:1])\n",
    "\n",
    "# Dimulai dari indeks 0 hingga sebelum indeks 4, langkah 2\n",
    "print(\"Slicing [0:4:2]:\", students[0:4:2])\n",
    "\n",
    "# Membalik urutan list\n",
    "print(\"Membalik list:\", students[::-1])"
   ]
  },
  {
   "cell_type": "markdown",
   "metadata": {},
   "source": [
    "---"
   ]
  },
  {
   "cell_type": "markdown",
   "metadata": {},
   "source": [
    "## 4. Menambahkan Elemen ke dalam List"
   ]
  },
  {
   "cell_type": "code",
   "execution_count": 43,
   "metadata": {},
   "outputs": [
    {
     "name": "stdout",
     "output_type": "stream",
     "text": [
      "Setelah append: [10, 20, 30, 40, 50]\n",
      "Setelah extend: [10, 20, 30, 40, 50, 60, 70, 80]\n",
      "Setelah insert: [10, 15, 20, 30, 40]\n"
     ]
    }
   ],
   "source": [
    "# a. append() -> Menambah satu elemen di akhir list\n",
    "a = [10, 20, 30, 40]\n",
    "a.append(50)\n",
    "print(\"Setelah append:\", a)\n",
    "\n",
    "# b. extend() -> Menggabungkan list dengan list lain\n",
    "b = [10, 20, 30, 40]\n",
    "b.extend([50, 60, 70, 80])\n",
    "print(\"Setelah extend:\", b)\n",
    "\n",
    "# c. insert() -> Menambah elemen pada indeks tertentu\n",
    "c = [10, 20, 30, 40]\n",
    "c.insert(1, 15) # Menyisipkan 15 di indeks 1\n",
    "print(\"Setelah insert:\", c)"
   ]
  },
  {
   "cell_type": "markdown",
   "metadata": {},
   "source": [
    "---"
   ]
  },
  {
   "cell_type": "markdown",
   "metadata": {},
   "source": [
    "## 5. Modifikasi/Update Elemen Data\n",
    "Ubah nilai elemen dengan mengaksesnya melalui indeks dan memberikan nilai baru."
   ]
  },
  {
   "cell_type": "code",
   "execution_count": 44,
   "metadata": {},
   "outputs": [
    {
     "name": "stdout",
     "output_type": "stream",
     "text": [
      "Sebelum diubah: ['Adam', 'John', 'Harry', 'Padma']\n",
      "Setelah diubah: ['Adam', 'John', 'Harry', 'Andy']\n"
     ]
    }
   ],
   "source": [
    "students = [\"Adam\", \"John\", \"Harry\", \"Padma\"]\n",
    "print(\"Sebelum diubah:\", students)\n",
    "\n",
    "students[-1] = \"Andy\" # Mengubah data pada indeks terakhir\n",
    "print(\"Setelah diubah:\", students)"
   ]
  },
  {
   "cell_type": "markdown",
   "metadata": {},
   "source": [
    "---"
   ]
  },
  {
   "cell_type": "markdown",
   "metadata": {},
   "source": [
    "## 6. Menghapus Elemen dari List"
   ]
  },
  {
   "cell_type": "code",
   "execution_count": 45,
   "metadata": {},
   "outputs": [
    {
     "name": "stdout",
     "output_type": "stream",
     "text": [
      "Setelah remove('Adam'): ['John', 'Harry', 'Padma']\n",
      "Elemen yang di-pop: John\n",
      "List setelah pop(1): ['Adam', 'Harry', 'Padma']\n",
      "Setelah del students[2]: ['Adam', 'John', 'Padma']\n"
     ]
    }
   ],
   "source": [
    "# a. remove() -> Menghapus elemen berdasarkan nilainya\n",
    "students = [\"Adam\", \"John\", \"Harry\", \"Padma\"]\n",
    "students.remove(\"Adam\")\n",
    "print(\"Setelah remove('Adam'):\", students)\n",
    "\n",
    "# b. pop() -> Menghapus elemen berdasarkan indeks dan mengembalikannya\n",
    "students = [\"Adam\", \"John\", \"Harry\", \"Padma\"]\n",
    "removed_student = students.pop(1) # Hapus indeks 1\n",
    "print(\"Elemen yang di-pop:\", removed_student)\n",
    "print(\"List setelah pop(1):\", students)\n",
    "\n",
    "# c. del -> Menghapus elemen berdasarkan indeks\n",
    "students = [\"Adam\", \"John\", \"Harry\", \"Padma\"]\n",
    "del students[2]\n",
    "print(\"Setelah del students[2]:\", students)"
   ]
  },
  {
   "cell_type": "markdown",
   "metadata": {},
   "source": [
    "---"
   ]
  },
  {
   "cell_type": "markdown",
   "metadata": {},
   "source": [
    "## 7. Mengakses Setiap Elemen dalam List"
   ]
  },
  {
   "cell_type": "markdown",
   "metadata": {},
   "source": [
    "### a. Menggunakan `for` Loop\n",
    "Cara paling umum untuk melakukan iterasi atau perulangan pada setiap elemen."
   ]
  },
  {
   "cell_type": "code",
   "execution_count": 46,
   "metadata": {},
   "outputs": [
    {
     "name": "stdout",
     "output_type": "stream",
     "text": [
      "1\n",
      "2\n",
      "3\n",
      "4\n",
      "5\n"
     ]
    }
   ],
   "source": [
    "list1 = [1, 2, 3, 4, 5]\n",
    "for item in list1:\n",
    "    print(item)"
   ]
  },
  {
   "cell_type": "markdown",
   "metadata": {},
   "source": [
    "### b. Menggunakan Unpacking\n",
    "Ekstrak setiap elemen ke dalam variabel terpisah. Jumlah variabel harus sama persis dengan jumlah elemen."
   ]
  },
  {
   "cell_type": "code",
   "execution_count": 47,
   "metadata": {},
   "outputs": [
    {
     "name": "stdout",
     "output_type": "stream",
     "text": [
      "apple\n",
      "banana\n",
      "cherry\n"
     ]
    }
   ],
   "source": [
    "first, second, third = [\"apple\", \"banana\", \"cherry\"]\n",
    "print(first)\n",
    "print(second)\n",
    "print(third)"
   ]
  },
  {
   "cell_type": "markdown",
   "metadata": {},
   "source": [
    "---"
   ]
  },
  {
   "cell_type": "markdown",
   "metadata": {},
   "source": [
    "## 8. Nested List (List Bersarang)\n",
    "List yang berisi list lain di dalamnya, sering digunakan untuk merepresentasikan matriks atau grid."
   ]
  },
  {
   "cell_type": "code",
   "execution_count": 48,
   "metadata": {},
   "outputs": [
    {
     "name": "stdout",
     "output_type": "stream",
     "text": [
      "Elemen pada matrix[1][2] adalah: 6\n"
     ]
    }
   ],
   "source": [
    "matrix = [\n",
    "    [1, 2, 3], \n",
    "    [4, 5, 6], \n",
    "    [7, 8, 9]\n",
    "]\n",
    "\n",
    "# Mengakses elemen 6 (baris kedua, kolom ketiga)\n",
    "# Indeks baris: 1, Indeks kolom: 2\n",
    "element = matrix[1][2]\n",
    "print(\"Elemen pada matrix[1][2] adalah:\", element)"
   ]
  },
  {
   "cell_type": "markdown",
   "metadata": {},
   "source": [
    "---"
   ]
  },
  {
   "cell_type": "markdown",
   "metadata": {},
   "source": [
    "## 9. List Comprehension\n",
    "Sintaks yang elegan dan efisien untuk membuat list baru berdasarkan list yang sudah ada."
   ]
  },
  {
   "cell_type": "code",
   "execution_count": 49,
   "metadata": {},
   "outputs": [
    {
     "name": "stdout",
     "output_type": "stream",
     "text": [
      "List kuadrat: [1, 4, 9, 16, 25]\n",
      "List buah baru: ['apple', 'orange', 'cherry', 'kiwi', 'mango']\n"
     ]
    }
   ],
   "source": [
    "# Membuat list kuadrat dari angka 1 hingga 5\n",
    "square = [x**2 for x in range(1, 6)]\n",
    "print(\"List kuadrat:\", square)\n",
    "\n",
    "# Mengubah 'banana' menjadi 'orange'\n",
    "fruits = [\"apple\", \"banana\", \"cherry\", \"kiwi\", \"mango\"]\n",
    "newfruits = [x if x != \"banana\" else \"orange\" for x in fruits]\n",
    "print(\"List buah baru:\", newfruits)"
   ]
  },
  {
   "cell_type": "markdown",
   "metadata": {},
   "source": [
    "Alternatifnya, kita bisa menggunakan `map` dengan `lambda` untuk hasil yang sama."
   ]
  },
  {
   "cell_type": "code",
   "execution_count": null,
   "metadata": {},
   "outputs": [
    {
     "name": "stdout",
     "output_type": "stream",
     "text": [
      "Kuadrat dengan map dan lambda: [1, 4, 9, 16, 25]\n"
     ]
    }
   ],
   "source": [
    "# Membuat daftar kuadrat menggunakan list comprehension\n",
    "numbers = [1, 2, 3, 4, 5]\n",
    "squared_numbers = [x**2 for x in numbers]\n",
    "print(\"Kuadrat dengan list comprehension:\", squared_numbers)\n",
    "\n",
    "# Membuat daftar kuadrat menggunakan map dan lambda\n",
    "lst = list(map(lambda x: x**2, range(1, 6)))\n",
    "print(\"Kuadrat dengan map dan lambda:\", lst)"
   ]
  },
  {
   "cell_type": "markdown",
   "metadata": {},
   "source": [
    "---"
   ]
  },
  {
   "cell_type": "markdown",
   "metadata": {},
   "source": [
    "## 10. Mengurutkan Elemen dalam List"
   ]
  },
  {
   "cell_type": "markdown",
   "metadata": {},
   "source": [
    "### a. Fungsi `sorted()`\n",
    "Membuat **list baru** yang sudah terurut tanpa mengubah list aslinya."
   ]
  },
  {
   "cell_type": "code",
   "execution_count": 51,
   "metadata": {},
   "outputs": [
    {
     "name": "stdout",
     "output_type": "stream",
     "text": [
      "List asli: [5, 6, 3, 2, 1, 9]\n",
      "Sorted ascending: [1, 2, 3, 5, 6, 9]\n",
      "Sorted descending: [9, 6, 5, 3, 2, 1]\n",
      "Urut berdasarkan panjang: ['cupcake', 'lemon cake', 'mac and cheese']\n"
     ]
    }
   ],
   "source": [
    "a = [5, 6, 3, 2, 1, 9]\n",
    "print(\"List asli:\", a)\n",
    "\n",
    "# Urutkan secara ascending (naik)\n",
    "print(\"Sorted ascending:\", sorted(a))\n",
    "\n",
    "# Urutkan secara descending (turun)\n",
    "print(\"Sorted descending:\", sorted(a, reverse=True))\n",
    "\n",
    "dessert = [\"mac and cheese\", \"cupcake\", \"lemon cake\"]\n",
    "\n",
    "# Urutkan berdasarkan panjang karakter\n",
    "print(\"Urut berdasarkan panjang:\", sorted(dessert, key=len))"
   ]
  },
  {
   "cell_type": "markdown",
   "metadata": {},
   "source": [
    "### b. Metode `list.sort()`\n",
    "Mengurutkan list **secara langsung (in-place)**, artinya list aslinya yang akan berubah."
   ]
  },
  {
   "cell_type": "code",
   "execution_count": 52,
   "metadata": {},
   "outputs": [
    {
     "name": "stdout",
     "output_type": "stream",
     "text": [
      "List asli: [5, 6, 3, 2, 1, 9]\n",
      "List setelah a.sort(): [1, 2, 3, 5, 6, 9]\n"
     ]
    }
   ],
   "source": [
    "a = [5, 6, 3, 2, 1, 9]\n",
    "print(\"List asli:\", a)\n",
    "\n",
    "a.sort() # Mengurutkan secara ascending\n",
    "print(\"List setelah a.sort():\", a)"
   ]
  },
  {
   "cell_type": "markdown",
   "metadata": {},
   "source": [
    "---"
   ]
  },
  {
   "cell_type": "markdown",
   "metadata": {},
   "source": [
    "## 11. Melakukan Filter terhadap Elemen Data\n",
    "Saring elemen list berdasarkan kondisi tertentu menggunakan fungsi `filter()`."
   ]
  },
  {
   "cell_type": "code",
   "execution_count": 53,
   "metadata": {},
   "outputs": [
    {
     "name": "stdout",
     "output_type": "stream",
     "text": [
      "Angka genap: [4, 2, 8, 10]\n",
      "Buah yang diawali 'a': ['apple', 'apricot']\n"
     ]
    }
   ],
   "source": [
    "# a. Menggunakan fungsi lambda\n",
    "numbers = [4, 2, 9, 1, 7, 8, 10]\n",
    "even_numbers = list(filter(lambda x: x % 2 == 0, numbers)) # Filter angka genap\n",
    "print(\"Angka genap:\", even_numbers)\n",
    "\n",
    "# b. Menggunakan fungsi buatan (def)\n",
    "def starts_with_a(word):\n",
    "    return word.startswith(\"a\")\n",
    "\n",
    "fruits = [\"apple\", \"banana\", \"kiwi\", \"lemon\", \"apricot\"]\n",
    "a_fruits = list(filter(starts_with_a, fruits))\n",
    "print(\"Buah yang diawali 'a':\", a_fruits)"
   ]
  },
  {
   "cell_type": "markdown",
   "metadata": {},
   "source": [
    "---"
   ]
  },
  {
   "cell_type": "markdown",
   "metadata": {},
   "source": [
    "## 12. Operasi Statistik Sederhana (min & max)\n",
    "Temukan nilai minimum dan maksimum dalam list dengan mudah menggunakan `min()` dan `max()`."
   ]
  },
  {
   "cell_type": "code",
   "execution_count": 54,
   "metadata": {},
   "outputs": [
    {
     "name": "stdout",
     "output_type": "stream",
     "text": [
      "Nilai max dari numbers: 6\n",
      "Nilai min dari numbers: 1\n",
      "Nilai max dari strings (urutan alfabet): World\n",
      "Nilai min dari strings (urutan alfabet): Famous\n"
     ]
    }
   ],
   "source": [
    "numbers = [1, 2, 3, 4, 5, 6]\n",
    "print(\"Nilai max dari numbers:\", max(numbers))\n",
    "print(\"Nilai min dari numbers:\", min(numbers))\n",
    "\n",
    "strings = [\"Hello\", \"World\", \"Famous\", \"Witchcraft\"]\n",
    "print(\"Nilai max dari strings (urutan alfabet):\", max(strings)) # 'W' adalah yang terakhir\n",
    "print(\"Nilai min dari strings (urutan alfabet):\", min(strings)) # 'F' adalah yang pertama"
   ]
  }
 ],
 "metadata": {
  "kernelspec": {
   "display_name": "Python 3",
   "language": "python",
   "name": "python3"
  },
  "language_info": {
   "codemirror_mode": {
    "name": "ipython",
    "version": 3
   },
   "file_extension": ".py",
   "mimetype": "text/x-python",
   "name": "python",
   "nbconvert_exporter": "python",
   "pygments_lexer": "ipython3",
   "version": "3.13.7"
  }
 },
 "nbformat": 4,
 "nbformat_minor": 4
}
